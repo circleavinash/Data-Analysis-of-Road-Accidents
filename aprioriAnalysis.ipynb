{
 "cells": [
  {
   "cell_type": "code",
   "execution_count": 2,
   "metadata": {},
   "outputs": [],
   "source": [
    "import apyori\n",
    "'''This is the Python module to perform Apriori algorithm'''\n",
    "\n",
    "import csv\n",
    "'''This is to read csv dataset file; Pandas reads the file as a Dataframe object, but to perform Apriori, we need a list\n",
    "of lists(transactions)'''\n",
    "\n",
    "import pickle\n",
    "'''This module is used for saving the output of the Apriori function, as more time is needed to perform Apriori analysis'''"
   ]
  },
  {
   "cell_type": "code",
   "execution_count": 29,
   "metadata": {},
   "outputs": [
    {
     "name": "stdout",
     "output_type": "stream",
     "text": [
      "Accident_Severity : Slight\n",
      "62816 out of 251833 rows found\n"
     ]
    }
   ],
   "source": [
    "filename = 'Accidents_categorical.csv' \n",
    "with open(filename) as f:\n",
    "    data = list(csv.reader(f))\n",
    "nrows = len(data)\n",
    "ncolumns = len(data[0])\n",
    "\n",
    "\n",
    "num = [0, 1, 2, 6, 7, 13, 14, 15, 16, 17, 18, 19, 20, 21, 22]\n",
    "'''These are the few rows having numerical values. This is removed (the below 'for' loop)\n",
    "before performing the Apriori analysis.'''\n",
    "for i in range(1, r):\n",
    "    tmp = []\n",
    "    for j in range(c):\n",
    "        if j not in num:\n",
    "            tmp.append(data[0][j] + \" : \" + data[i][j]) #Encode the values with column names to make sense of the result\n",
    "    data[i] = tmp.copy()\n",
    "\n",
    "    \n",
    "\n",
    "'''Our objective is to see what values of various columns contribute the most in case of severe accidents.\n",
    "Hence, we first extract columns with Accident_Severity column set to 'Fatal_Serious' (the other value is 'Slight')'''\n",
    "only_severe = []\n",
    "print(data[1000][-1])\n",
    "for i in data:\n",
    "    if i[-1] == \"Accident_Severity : Fatal_Serious\":\n",
    "        i = i[:-1]\n",
    "        only_severe.append(i)\n",
    "print(len(only_severe), \"out of\", len(data), \"rows found\")\n",
    "    "
   ]
  },
  {
   "cell_type": "code",
   "execution_count": 31,
   "metadata": {},
   "outputs": [],
   "source": [
    "result = apyori.apriori(only_severe, min_support=0.5) #Frequent itemsets with support<0.5 are insignificant\n",
    "\n",
    "'''We now need to store the result of the Apriori algorithm as it takes too long to compute.\n",
    "So we store it in a file named 'apriori.da'. '''\n",
    "f = open(\"apriori.da\", 'wb')\n",
    "res1 = list(result)\n",
    "pickle.dump(res1, f)\n"
   ]
  },
  {
   "cell_type": "code",
   "execution_count": 32,
   "metadata": {},
   "outputs": [
    {
     "name": "stdout",
     "output_type": "stream",
     "text": [
      "['Driver_Journey_Purpose : Other/Not known', 'Weather : Fine', 'High_Wind : No'] Support: 0.6390728476821192\n",
      "['High_Wind : No', 'Lights : Daylight', 'Weather : Fine'] Support: 0.6155915690269995\n",
      "['High_Wind : No', 'Road_Surface_Conditions : Dry', 'Weather : Fine'] Support: 0.6899038461538461\n",
      "['High_Wind : No', 'Road_Type : Single carriageway', 'Weather : Fine'] Support: 0.6740480132450332\n",
      "['High_Wind : No', 'Vehicle_Category : Car', 'Weather : Fine'] Support: 0.6012321701477331\n"
     ]
    }
   ],
   "source": [
    "'''In this cell, we extract the results of the above Apriori function from the file 'apriori.da'. '''\n",
    "f = open(\"apriori.da\", \"rb\")\n",
    "apriori_saved = pickle.load(f)\n",
    "\n",
    "\n",
    "'''Our objective was to search for frequent itemsets which lead to Fatal_Severe accidents.\n",
    "We need to specify the minimum number of items in the desired result, and also the \n",
    "minimum support these items should have.'''\n",
    "thresh_item = 3\n",
    "thresh_support = 0.6   #This is to further filter in support of frequent itemsets\n",
    "\n",
    "'''The below for loop is to print the result in a proper format.'''\n",
    "for i in apriori_saved:\n",
    "    i = list(i)\n",
    "    freq_itm_set = list(i[0])\n",
    "    support = i[1]\n",
    "    if len(freq_itm_set) >= thresh_item and support >= thresh_support:\n",
    "        print(freq_itm_set, \"Support:\", support)"
   ]
  },
  {
   "cell_type": "markdown",
   "metadata": {},
   "source": []
  }
 ],
 "metadata": {
  "kernelspec": {
   "display_name": "Python 3",
   "language": "python",
   "name": "python3"
  },
  "language_info": {
   "codemirror_mode": {
    "name": "ipython",
    "version": 3
   },
   "file_extension": ".py",
   "mimetype": "text/x-python",
   "name": "python",
   "nbconvert_exporter": "python",
   "pygments_lexer": "ipython3",
   "version": "3.6.0"
  }
 },
 "nbformat": 4,
 "nbformat_minor": 2
}
