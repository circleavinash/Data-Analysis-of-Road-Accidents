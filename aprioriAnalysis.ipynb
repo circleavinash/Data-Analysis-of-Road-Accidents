{
 "cells": [
  {
   "cell_type": "code",
   "execution_count": 65,
   "metadata": {},
   "outputs": [],
   "source": [
    "import apyori\n",
    "import csv\n",
    "import pickle"
   ]
  },
  {
   "cell_type": "code",
   "execution_count": 70,
   "metadata": {},
   "outputs": [],
   "source": [
    "with open('Accidents_categorical.csv') as f:\n",
    "    data = list(csv.reader(f))\n",
    "r = len(data)\n",
    "c = len(data[0])\n",
    "num = [0, 1, 2, 6, 7, 13, 14, 15, 16, 17, 18, 19, 20, 21, 22]\n",
    "for i in range(r):\n",
    "    tmp = []\n",
    "    for j in range(c):\n",
    "        if j not in num:\n",
    "            tmp.append(data[i][j])\n",
    "    data[i] = tmp.copy()\n",
    "    "
   ]
  },
  {
   "cell_type": "code",
   "execution_count": 71,
   "metadata": {},
   "outputs": [],
   "source": [
    "res = apyori.apriori(data, min_support=0.5)\n",
    "f = open(\"apriori.da\", 'wb')\n",
    "res1 = list(res)\n",
    "pickle.dump(res1, f)\n"
   ]
  },
  {
   "cell_type": "code",
   "execution_count": 72,
   "metadata": {},
   "outputs": [
    {
     "name": "stdout",
     "output_type": "stream",
     "text": [
      "['Car', 'Daylight', 'Fine'] => ['No'] Confidence: 0.9872033249480476 Lift: 1.0133464918790624\n",
      "['Car', 'Dry', 'Fine'] => ['No'] Confidence: 0.9897256755368335 Lift: 1.0159356394800088\n",
      "['Car', 'Dry', 'No'] => ['Fine'] Confidence: 0.9791126696142705 Lift: 1.183057676456053\n",
      "['Other/Not known', 'Car', 'Fine'] => ['No'] Confidence: 0.9865025024722766 Lift: 1.012627110188072\n",
      "['Fine', 'Car', 'Slight'] => ['No'] Confidence: 0.9860667836139811 Lift: 1.0121798526015737\n",
      "['Dry', 'Fine', 'Daylight'] => ['No'] Confidence: 0.9900505172704545 Lift: 1.0162690836883717\n",
      "['Dry', 'No', 'Daylight'] => ['Fine'] Confidence: 0.9827227340873035 Lift: 1.187419702012321\n",
      "['Other/Not known', 'Dry', 'Fine'] => ['No'] Confidence: 0.9900129090107986 Lift: 1.0162304794849368\n",
      "['Other/Not known', 'Dry', 'No'] => ['Fine'] Confidence: 0.9793313860129378 Lift: 1.1833219505507926\n",
      "['Single carriageway', 'Dry', 'Fine'] => ['No'] Confidence: 0.9901145774954855 Lift: 1.016334840359428\n",
      "['Single carriageway', 'Dry', 'No'] => ['Fine'] Confidence: 0.9807779791048228 Lift: 1.1850698628342042\n"
     ]
    }
   ],
   "source": [
    "f = open(\"apriori.da\", \"rb\")\n",
    "ap = pickle.load(f)\n",
    "thresh_item = 3\n",
    "thresh_conf = 0.9\n",
    "for i in ap:\n",
    "    i = list(i)\n",
    "    tmp = i[2]\n",
    "    for j in tmp:\n",
    "        j = list(j)\n",
    "        if len(j[0]) >= thresh_item and j[2] > thresh_conf:\n",
    "            print(list(j[0]), \"=>\", list(j[1]), \"Confidence:\", j[2], \"Lift:\", j[3])\n",
    "# print(list(ap[-1])[2][1])"
   ]
  },
  {
   "cell_type": "markdown",
   "metadata": {},
   "source": []
  }
 ],
 "metadata": {
  "kernelspec": {
   "display_name": "Python 3",
   "language": "python",
   "name": "python3"
  },
  "language_info": {
   "codemirror_mode": {
    "name": "ipython",
    "version": 3
   },
   "file_extension": ".py",
   "mimetype": "text/x-python",
   "name": "python",
   "nbconvert_exporter": "python",
   "pygments_lexer": "ipython3",
   "version": "3.6.0"
  }
 },
 "nbformat": 4,
 "nbformat_minor": 2
}
