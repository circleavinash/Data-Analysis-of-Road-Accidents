{
 "cells": [
  {
   "cell_type": "code",
   "execution_count": 26,
   "metadata": {},
   "outputs": [
    {
     "data": {
      "text/plain": [
       "(251832, 33)"
      ]
     },
     "execution_count": 26,
     "metadata": {},
     "output_type": "execute_result"
    }
   ],
   "source": [
    "from sklearn.tree import DecisionTreeClassifier # Import Decision Tree Classifier\n",
    "from sklearn.svm import SVC  # Import SVM classifier\n",
    "from sklearn.neighbors import KNeighborsClassifier #import KNN classifier\n",
    "from sklearn.model_selection import train_test_split # Import train_test_split function\n",
    "from sklearn import metrics #Import scikit-learn metrics module for accuracy calculation\n",
    "from sklearn.ensemble import AdaBoostClassifier\n",
    "from sklearn.ensemble import GradientBoostingClassifier\n",
    "from sklearn.ensemble import GradientBoostingRegressor\n",
    "from sklearn.ensemble import RandomForestClassifier #import Random Forest classifier\n",
    "from sklearn.naive_bayes import GaussianNB #import Naive bayes classifier\n",
    "import seaborn as sns\n",
    "from sklearn.metrics import confusion_matrix,classification_report # for confusion matrix and accuracy measures\n",
    "import numpy as np # linear algebra\n",
    "import pandas as pd\n",
    "from sklearn.metrics import accuracy_score \n",
    "from sklearn.linear_model import LogisticRegression\n",
    "data = pd.read_csv(\"C:/Users/USER/Desktop/sem5/da/project/Accidents_categorical.csv\")\n",
    "data.shape"
   ]
  },
  {
   "cell_type": "code",
   "execution_count": 12,
   "metadata": {},
   "outputs": [],
   "source": [
    "def preprop(data, to_drop=[], na_thresh = 0.25):\n",
    "    log = []\n",
    "    for i in to_drop:                           # Explicitly drop specified columns (intuition and logical reasoning) \n",
    "        data = data.drop(i, axis=1)\n",
    "        log.append(\"Dropped column \" + i + \" as requested\")\n",
    "\n",
    "    report = getStats(data)\n",
    "    # print(report)\n",
    "    replace_index = {}\n",
    "    for i in report:\n",
    "        # print(i)\n",
    "        if i == \"uncertain\":            # report has a class of uncertain columns; Do nothing to them\n",
    "            continue\n",
    "        \n",
    "        # If numerical column and less than threshold percentage is empty, fill it with mean of column\n",
    "        if report[i][\"type\"] == 'num' and report[i][\"na\"] > 0 and report[i][\"na\"] < na_thresh :\n",
    "            data[i] = data[i].fillna(data[i].mean())\n",
    "            log.append(i + \" : replaced Nan/Na with mean\")\n",
    "            \n",
    "        #If in any column, more than threshold percentage is empty, drop such columns\n",
    "        elif (report[i][\"type\"] == 'num' or report[i][\"type\"] == 'cat') and report[i][\"na\"] >= na_thresh :\n",
    "            # print(data.columns)\n",
    "            data = data.drop(i, axis=1)\n",
    "            log.append(\"Dropped column \" + i + \" as Nan/Na ratio (\" + str(report[i][\"na\"]) + \") > \" + str(na_thresh))\n",
    "            \n",
    "            \n",
    "        # If column is categorical, encode them with numerical classes    \n",
    "        if report[i][\"type\"] == 'cat' and i in data.columns:\n",
    "            replace_index[i] = getEncodings(data[i])\n",
    "            log.append(\"Encoded column \" + i)\n",
    "\n",
    "    data = data.replace(replace_index)\n",
    "\n",
    "\n",
    "    return data, log, replace_index # Returning cleaned data, log of changes made and categorical encodings dict (if any)\n",
    "\n",
    "\n",
    "\n",
    "def getEncodings(o):\n",
    "    o = list(set(o))\n",
    "    o = sorted(o)\n",
    "    enc = {cls: ind for ind, cls in enumerate(o)}\n",
    "    return enc\n",
    "\n",
    "\n",
    "def getStats(data):\n",
    "    cols = data.columns\n",
    "    report = {}\n",
    "    report['uncertain'] = []\n",
    "    for i in cols:\n",
    "        report[i] = {}\n",
    "        report[i][\"na\"] = data[i].isna().sum() / len(data)\n",
    "        if \"unique\" in str(data[i].describe()):\n",
    "            if len(data[i].unique()) <  0.25 * len(data):\n",
    "                report[i][\"type\"] = \"cat\"\n",
    "                report[i][\"uniq\"] = data[i].unique()\n",
    "                report[i][\"uniq_no\"] = len(data[i].unique())\n",
    "            else:\n",
    "                report[\"uncertain\"].append(i)\n",
    "        else:\n",
    "            report[i][\"type\"] = \"num\"\n",
    "    return report\n",
    "\n",
    "\n",
    "# Accident_Index and Datetime provide no useful information\n",
    "prepro_data, logs, encs = preprop(data, to_drop=[\"Accident_Index\", \"Datetime\"])  \n",
    "#print(\"\\n\".join(logs))"
   ]
  },
  {
   "cell_type": "code",
   "execution_count": 13,
   "metadata": {},
   "outputs": [],
   "source": [
    "cols = list(prepro_data.columns)\n",
    "feature_cols=[]\n",
    "for i in range(0,len(cols)-1):\n",
    "    feature_cols.append(cols[i])\n",
    "#print(feature_cols)\n",
    "X = prepro_data[feature_cols] # Features\n",
    "y = prepro_data.Accident_Severity # Target variable\n",
    "X_train, X_test, y_train, y_test = train_test_split(X, y, test_size=0.3, random_state=1) # 70% training and 30% test"
   ]
  },
  {
   "cell_type": "code",
   "execution_count": 14,
   "metadata": {},
   "outputs": [
    {
     "name": "stdout",
     "output_type": "stream",
     "text": [
      "Accuracy: 0.669185969556585\n",
      "              precision    recall  f1-score   support\n",
      "\n",
      "           0       0.37      0.35      0.36     20233\n",
      "           1       0.77      0.79      0.78     55317\n",
      "\n",
      "    accuracy                           0.67     75550\n",
      "   macro avg       0.57      0.57      0.57     75550\n",
      "weighted avg       0.66      0.67      0.67     75550\n",
      "\n"
     ]
    },
    {
     "data": {
      "image/png": "[encoded data removed]",
      "text/plain": [
       "<Figure size 432x288 with 2 Axes>"
      ]
     },
     "metadata": {
      "needs_background": "light"
     },
     "output_type": "display_data"
    }
   ],
   "source": [
    "# Create Decision Tree classifer object\n",
    "clf = DecisionTreeClassifier()\n",
    "\n",
    "# Train Decision Tree Classifer\n",
    "clf = clf.fit(X_train,y_train)\n",
    "\n",
    "#Predict the response for test dataset\n",
    "y_pred = clf.predict(X_test)\n",
    "# Model Accuracy, how often is the classifier correct?\n",
    "print(\"Accuracy:\",metrics.accuracy_score(y_test, y_pred))\n",
    "cm = confusion_matrix(y_test, y_pred) \n",
    "sns.heatmap(cm,annot=True,cmap=\"YlGnBu\")\n",
    "print(classification_report(y_pred, y_test))"
   ]
  },
  {
   "cell_type": "code",
   "execution_count": 13,
   "metadata": {},
   "outputs": [
    {
     "name": "stdout",
     "output_type": "stream",
     "text": [
      "Accuracy: 0.7453474520185308\n"
     ]
    }
   ],
   "source": [
    "# training a linear SVM classifier\n",
    "from sklearn.svm import SVC\n",
    "svm_model_linear = SVC(kernel = 'linear', C = 1).fit(X_train, y_train) \n",
    "svm_predictions = svm_model_linear.predict(X_test) \n",
    "print(\"Accuracy:\",metrics.accuracy_score(y_test, svm_predictions))\n",
    "\n",
    "cm = confusion_matrix(y_test, svm_predictions) \n",
    "sns.heatmap(cm,annot=True,cmap=\"YlGnBu\")\n",
    "print(classification_report(y_pred, y_test))"
   ]
  },
  {
   "cell_type": "code",
   "execution_count": 28,
   "metadata": {},
   "outputs": [
    {
     "name": "stdout",
     "output_type": "stream",
     "text": [
      "Accuracy: 0.7279814692256784\n",
      "              precision    recall  f1-score   support\n",
      "\n",
      "           0       0.13      0.58      0.21      4085\n",
      "           1       0.97      0.77      0.86     71465\n",
      "\n",
      "    accuracy                           0.76     75550\n",
      "   macro avg       0.55      0.68      0.53     75550\n",
      "weighted avg       0.92      0.76      0.82     75550\n",
      "\n",
      "              precision    recall  f1-score   support\n",
      "\n",
      "           0       0.13      0.58      0.21      4085\n",
      "           1       0.97      0.77      0.86     71465\n",
      "\n",
      "    accuracy                           0.76     75550\n",
      "   macro avg       0.55      0.68      0.53     75550\n",
      "weighted avg       0.92      0.76      0.82     75550\n",
      "\n"
     ]
    },
    {
     "data": {
      "image/png": "[encoded data removed]",
      "text/plain": [
       "<Figure size 432x288 with 3 Axes>"
      ]
     },
     "metadata": {
      "needs_background": "light"
     },
     "output_type": "display_data"
    }
   ],
   "source": [
    "# training a KNN classifier \n",
    "knn = KNeighborsClassifier(n_neighbors = 7).fit(X_train, y_train) \n",
    "  \n",
    "# accuracy on X_test \n",
    "accuracy = knn.score(X_test, y_test) \n",
    "print(\"Accuracy:\",accuracy) \n",
    "  \n",
    "# creating a confusion matrix \n",
    "knn_predictions = knn.predict(X_test)  \n",
    "cm = confusion_matrix(y_test, knn_predictions) \n",
    "sns.heatmap(cm,annot=True,cmap=\"YlGnBu\")\n",
    "print(classification_report(y_pred, y_test))\n",
    "cm = confusion_matrix(y_test, y_pred) \n",
    "sns.heatmap(cm,annot=True,cmap=\"YlGnBu\")\n",
    "print(classification_report(y_pred, y_test))"
   ]
  },
  {
   "cell_type": "code",
   "execution_count": 13,
   "metadata": {},
   "outputs": [
    {
     "name": "stdout",
     "output_type": "stream",
     "text": [
      "Accuracy: 0.7676240900066181\n",
      "              precision    recall  f1-score   support\n",
      "\n",
      "           0       0.15      0.65      0.24      4284\n",
      "           1       0.97      0.77      0.86     71266\n",
      "\n",
      "    accuracy                           0.77     75550\n",
      "   macro avg       0.56      0.71      0.55     75550\n",
      "weighted avg       0.93      0.77      0.83     75550\n",
      "\n"
     ]
    },
    {
     "data": {
      "image/png": "[encoded data removed]",
      "text/plain": [
       "<Figure size 432x288 with 2 Axes>"
      ]
     },
     "metadata": {
      "needs_background": "light"
     },
     "output_type": "display_data"
    }
   ],
   "source": [
    "#training Random Forest model\n",
    "\n",
    "clf=RandomForestClassifier(n_estimators=500)\n",
    "\n",
    "#Train the model using the training sets y_pred=clf.predict(X_test)\n",
    "clf.fit(X_train,y_train)\n",
    "\n",
    "y_pred=clf.predict(X_test)\n",
    "\n",
    "\n",
    "# Model Accuracy, how often is the classifier correct?\n",
    "print(\"Accuracy:\",metrics.accuracy_score(y_test, y_pred))\n",
    "cm = confusion_matrix(y_test, y_pred) \n",
    "sns.heatmap(cm,annot=True,cmap=\"YlGnBu\")\n",
    "print(classification_report(y_pred, y_test))"
   ]
  },
  {
   "cell_type": "code",
   "execution_count": 16,
   "metadata": {},
   "outputs": [
    {
     "name": "stdout",
     "output_type": "stream",
     "text": [
      "Accuracy: 0.7341892786234282\n",
      "              precision    recall  f1-score   support\n",
      "\n",
      "           0       0.23      0.44      0.30      9742\n",
      "           1       0.90      0.78      0.84     65808\n",
      "\n",
      "    accuracy                           0.73     75550\n",
      "   macro avg       0.56      0.61      0.57     75550\n",
      "weighted avg       0.82      0.73      0.77     75550\n",
      "\n"
     ]
    },
    {
     "data": {
      "image/png": "[encoded data removed]",
      "text/plain": [
       "<Figure size 432x288 with 2 Axes>"
      ]
     },
     "metadata": {
      "needs_background": "light"
     },
     "output_type": "display_data"
    }
   ],
   "source": [
    "#training Naive Bayes model\n",
    "\n",
    "model = GaussianNB()\n",
    "model.fit(X_train, y_train)\n",
    "y_pred=model.predict(X_test)\n",
    "\n",
    "# Model Accuracy, how often is the classifier correct?\n",
    "print(\"Accuracy:\",metrics.accuracy_score(y_test, y_pred))\n",
    "cm = confusion_matrix(y_test, y_pred) \n",
    "sns.heatmap(cm,annot=True,cmap=\"YlGnBu\")\n",
    "print(classification_report(y_pred, y_test))"
   ]
  }
 ],
 "metadata": {
  "kernelspec": {
   "display_name": "Python 3",
   "language": "python",
   "name": "python3"
  },
  "language_info": {
   "codemirror_mode": {
    "name": "ipython",
    "version": 3
   },
   "file_extension": ".py",
   "mimetype": "text/x-python",
   "name": "python",
   "nbconvert_exporter": "python",
   "pygments_lexer": "ipython3",
   "version": "3.7.4"
  }
 },
 "nbformat": 4,
 "nbformat_minor": 1
}
