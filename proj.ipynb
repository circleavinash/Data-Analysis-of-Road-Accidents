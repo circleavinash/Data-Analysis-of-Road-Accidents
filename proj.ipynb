{
 "cells": [
  {
   "cell_type": "code",
   "execution_count": 26,
   "metadata": {},
   "outputs": [
    {
     "data": {
      "text/plain": [
       "(251832, 33)"
      ]
     },
     "metadata": {},
     "output_type": "execute_result"
    }
   ],
   "source": [
    "import pandas as pd\n",
    "import numpy as np\n",
    "import matplotlib.pyplot as plt\n",
    "from sklearn.decomposition import PCA\n",
    "from sklearn.tree import DecisionTreeClassifier # Import Decision Tree Classifier\n",
    "from sklearn.svm import SVC  # Import SVM classifier\n",
    "from sklearn.neighbors import KNeighborsClassifier #import KNN classifier\n",
    "from sklearn.model_selection import train_test_split # Import train_test_split function\n",
    "from sklearn import metrics #Import scikit-learn metrics module for accuracy calculation\n",
    "from sklearn.ensemble import AdaBoostClassifier\n",
    "from sklearn.ensemble import GradientBoostingClassifier\n",
    "from sklearn.ensemble import GradientBoostingRegressor\n",
    "from sklearn.ensemble import RandomForestClassifier #import Random Forest classifier\n",
    "from sklearn.naive_bayes import GaussianNB #import Naive bayes classifier\n",
    "import seaborn as sns\n",
    "from sklearn.metrics import confusion_matrix,classification_report # for confusion matrix and accuracy measures\n",
    "import numpy as np # linear algebra\n",
    "import pandas as pd\n",
    "from sklearn.metrics import accuracy_score \n",
    "from sklearn.linear_model import LogisticRegression\n",
    "data = pd.read_csv(\"C:/Users/USER/Desktop/sem5/da/project/Accidents_categorical.csv\")\n",
    "data.shape"
   ]
  },
  {
   "cell_type": "code",
   "execution_count": null,
   "metadata": {},
   "outputs": [],
   "source": [
    "def preprop(data, to_drop=[], na_thresh = 0.25):\n",
    "    log = []\n",
    "    for i in to_drop:                           # Explicitly drop specified columns (intuition and logical reasoning) \n",
    "        data = data.drop(i, axis=1)\n",
    "        log.append(\"Dropped column \" + i + \" as requested\")\n",
    "\n",
    "    report = getStats(data)\n",
    "    # print(report)\n",
    "    replace_index = {}\n",
    "    for i in report:\n",
    "        # print(i)\n",
    "        if i == \"uncertain\":            # report has a class of uncertain columns; Do nothing to them\n",
    "            continue\n",
    "        \n",
    "        # If numerical column and less than threshold percentage is empty, fill it with mean of column\n",
    "        if report[i][\"type\"] == 'num' and report[i][\"na\"] > 0 and report[i][\"na\"] < na_thresh :\n",
    "            data[i] = data[i].fillna(data[i].mean())\n",
    "            log.append(i + \" : replaced Nan/Na with mean\")\n",
    "            \n",
    "        #If in any column, more than threshold percentage is empty, drop such columns\n",
    "        elif (report[i][\"type\"] == 'num' or report[i][\"type\"] == 'cat') and report[i][\"na\"] >= na_thresh :\n",
    "            # print(data.columns)\n",
    "            data = data.drop(i, axis=1)\n",
    "            log.append(\"Dropped column \" + i + \" as Nan/Na ratio (\" + str(report[i][\"na\"]) + \") > \" + str(na_thresh))\n",
    "            \n",
    "            \n",
    "        # If column is categorical, encode them with numerical classes    \n",
    "        if report[i][\"type\"] == 'cat' and i in data.columns:\n",
    "            replace_index[i] = getEncodings(data[i])\n",
    "            log.append(\"Encoded column \" + i)\n",
    "\n",
    "    data = data.replace(replace_index)\n",
    "\n",
    "\n",
    "    return data, log, replace_index # Returning cleaned data, log of changes made and categorical encodings dict (if any)\n",
    "\n",
    "\n",
    "\n",
    "def getEncodings(o):\n",
    "    o = list(set(o))\n",
    "    o = sorted(o)\n",
    "    enc = {cls: ind for ind, cls in enumerate(o)}\n",
    "    return enc\n",
    "\n",
    "\n",
    "def getStats(data):\n",
    "    cols = data.columns\n",
    "    report = {}\n",
    "    report['uncertain'] = []\n",
    "    for i in cols:\n",
    "        report[i] = {}\n",
    "        report[i][\"na\"] = data[i].isna().sum() / len(data)\n",
    "        if \"unique\" in str(data[i].describe()):\n",
    "            if len(data[i].unique()) <  0.25 * len(data):\n",
    "                report[i][\"type\"] = \"cat\"\n",
    "                report[i][\"uniq\"] = data[i].unique()\n",
    "                report[i][\"uniq_no\"] = len(data[i].unique())\n",
    "            else:\n",
    "                report[\"uncertain\"].append(i)\n",
    "        else:\n",
    "            report[i][\"type\"] = \"num\"\n",
    "    return report\n",
    "\n",
    "\n",
    "# Accident_Index and Datetime provide no useful information\n",
    "prepro_data, logs, encs = preprop(data, to_drop=[\"Accident_Index\", \"Datetime\"])  \n",
    "#print(\"\\n\".join(logs))"
   ]
  },
  {
   "cell_type": "code",
   "execution_count": 3,
   "metadata": {},
   "outputs": [],
   "source": [
    "cols = list(prepro_data.columns)\n",
    "feature_cols=[]\n",
    "for i in range(0,len(cols)-1):\n",
    "    feature_cols.append(cols[i])\n",
    "#print(feature_cols)\n",
    "X = prepro_data[feature_cols] # Features\n",
    "y = prepro_data.Accident_Severity # Target variable"
   ]
  },
  {
   "cell_type": "code",
   "execution_count": 4,
   "metadata": {},
   "outputs": [
    {
     "name": "stdout",
     "output_type": "stream",
     "text": [
      "[9.98763932e-01 5.77517315e-04 2.18533223e-04 1.49725631e-04\n",
      " 5.83370558e-05 3.93741107e-05 3.32678245e-05 3.03532947e-05\n",
      " 2.62481128e-05 2.20421994e-05 1.22225867e-05 1.19321019e-05\n",
      " 1.12054696e-05 1.05220965e-05 8.61542428e-06 5.62904204e-06\n",
      " 3.78193997e-06 3.39708288e-06 3.02298642e-06 2.90201562e-06\n",
      " 2.26325416e-06 1.69056774e-06 1.37613915e-06 1.20355755e-06\n",
      " 3.97594386e-07 3.28706632e-07 1.09579708e-07 6.92440947e-08]\n"
     ]
    }
   ],
   "source": [
    "pca = PCA(28)\n",
    "pca.fit(X)\n",
    "pca.n_components_\n",
    "print(pca.explained_variance_ratio_)"
   ]
  },
  {
   "cell_type": "code",
   "execution_count": 5,
   "metadata": {},
   "outputs": [
    {
     "data": {
      "image/png": "[encoded data removed]",
      "text/plain": [
       "<Figure size 432x288 with 1 Axes>"
      ]
     },
     "metadata": {
      "needs_background": "light"
     },
     "output_type": "display_data"
    }
   ],
   "source": [
    "#Fitting the PCA algorithm with our Data\n",
    "pca = PCA().fit(X)\n",
    "#Plotting the Cumulative Summation of the Explained Variance\n",
    "plt.figure()\n",
    "plt.plot(np.cumsum(pca.explained_variance_ratio_))\n",
    "plt.xlabel('Number of Components')\n",
    "plt.ylabel('Variance (%)') #for each component\n",
    "plt.title('Pulsar Dataset Explained Variance')\n",
    "plt.show()"
   ]
  },
  {
   "cell_type": "code",
   "execution_count": 6,
   "metadata": {},
   "outputs": [],
   "source": [
    "pca = PCA(n_components=15)\n",
    "dataset = pca.fit_transform(X)"
   ]
  },
  {
   "cell_type": "code",
   "execution_count": 7,
   "metadata": {},
   "outputs": [],
   "source": [
    "X_train, X_test, y_train, y_test = train_test_split(dataset, y, test_size=0.3, random_state=1) # 70% training and 30% test"
   ]
  },
  {
   "cell_type": "code",
   "execution_count": 23,
   "metadata": {},
   "outputs": [
    {
     "name": "stdout",
     "output_type": "stream",
     "text": [
      "Accuracy: 64.41826604897419\n",
      "              precision    recall  f1-score   support\n",
      "\n",
      "           0       0.32      0.30      0.31     20000\n",
      "           1       0.75      0.77      0.76     55550\n",
      "\n",
      "    accuracy                           0.64     75550\n",
      "   macro avg       0.54      0.53      0.53     75550\n",
      "weighted avg       0.64      0.64      0.64     75550\n",
      "\n"
     ]
    },
    {
     "data": {
      "image/png": "[encoded data removed]",
      "text/plain": [
       "<Figure size 432x288 with 2 Axes>"
      ]
     },
     "metadata": {
      "needs_background": "light"
     },
     "output_type": "display_data"
    }
   ],
   "source": [
    "# Create Decision Tree classifer object\n",
    "clf = DecisionTreeClassifier()\n",
    "\n",
    "# Train Decision Tree Classifer\n",
    "clf = clf.fit(X_train,y_train)\n",
    "\n",
    "#Predict the response for test dataset\n",
    "y_pred = clf.predict(X_test)\n",
    "# Model Accuracy, how often is the classifier correct?\n",
    "print(\"Accuracy:\",metrics.accuracy_score(y_test, y_pred)*100)\n",
    "cm = confusion_matrix(y_test, y_pred) \n",
    "sns.heatmap(cm,annot=True,cmap=\"YlGnBu\")\n",
    "print(classification_report(y_pred, y_test))"
   ]
  },
  {
   "cell_type": "code",
   "execution_count": null,
   "metadata": {},
   "outputs": [],
   "source": [
    "# training a linear SVM classifier\n",
    "from sklearn.svm import SVC\n",
    "svm_model_linear = SVC(kernel = 'linear', C = 1).fit(X_train, y_train) \n",
    "svm_predictions = svm_model_linear.predict(X_test) \n",
    "print(\"Accuracy:\",metrics.accuracy_score(y_test, svm_predictions)*100)\n",
    "\n",
    "cm = confusion_matrix(y_test, svm_predictions) \n",
    "sns.heatmap(cm,annot=True,cmap=\"YlGnBu\")\n",
    "print(classification_report(y_pred, y_test))"
   ]
  },
  {
   "cell_type": "code",
   "execution_count": 19,
   "metadata": {},
   "outputs": [
    {
     "name": "stdout",
     "output_type": "stream",
     "text": [
      "Accuracy: 72.78093977498345\n",
      "              precision    recall  f1-score   support\n",
      "\n",
      "           0       0.36      0.34      0.35     20322\n",
      "           1       0.76      0.78      0.77     55228\n",
      "\n",
      "    accuracy                           0.66     75550\n",
      "   macro avg       0.56      0.56      0.56     75550\n",
      "weighted avg       0.66      0.66      0.66     75550\n",
      "\n"
     ]
    },
    {
     "data": {
      "image/png": "[encoded data removed]",
      "text/plain": [
       "<Figure size 432x288 with 2 Axes>"
      ]
     },
     "metadata": {
      "needs_background": "light"
     },
     "output_type": "display_data"
    }
   ],
   "source": [
    "# training a KNN classifier \n",
    "knn = KNeighborsClassifier(n_neighbors = 7).fit(X_train, y_train) \n",
    "  \n",
    "# accuracy on X_test \n",
    "accuracy = knn.score(X_test, y_test) \n",
    "print(\"Accuracy:\",accuracy*100) \n",
    "  \n",
    "# creating a confusion matrix \n",
    "knn_predictions = knn.predict(X_test)  \n",
    "cm = confusion_matrix(y_test, knn_predictions) \n",
    "sns.heatmap(cm,annot=True,cmap=\"YlGnBu\")\n",
    "print(classification_report(y_pred, y_test))\n",
    "cm = confusion_matrix(y_test, y_pred) \n",
    "sns.heatmap(cm,annot=True,cmap=\"YlGnBu\")\n",
    "print(classification_report(y_pred, y_test))"
   ]
  },
  {
   "cell_type": "code",
   "execution_count": 8,
   "metadata": {},
   "outputs": [
    {
     "name": "stdout",
     "output_type": "stream",
     "text": [
      "Accuracy: 75.63732627399074\n",
      "              precision    recall  f1-score   support\n",
      "\n",
      "           0       0.09      0.58      0.15      2768\n",
      "           1       0.98      0.76      0.86     72782\n",
      "\n",
      "    accuracy                           0.76     75550\n",
      "   macro avg       0.53      0.67      0.50     75550\n",
      "weighted avg       0.95      0.76      0.83     75550\n",
      "\n"
     ]
    },
    {
     "data": {
      "image/png": "[encoded data removed]",
      "text/plain": [
       "<Figure size 432x288 with 2 Axes>"
      ]
     },
     "metadata": {
      "needs_background": "light"
     },
     "output_type": "display_data"
    }
   ],
   "source": [
    "#training Random Forest model\n",
    "\n",
    "clf=RandomForestClassifier(n_estimators=500)\n",
    "\n",
    "#Train the model using the training sets y_pred=clf.predict(X_test)\n",
    "clf.fit(X_train,y_train)\n",
    "\n",
    "y_pred=clf.predict(X_test)\n",
    "\n",
    "\n",
    "# Model Accuracy, how often is the classifier correct?\n",
    "print(\"Accuracy:\",metrics.accuracy_score(y_test, y_pred)*100)\n",
    "cm = confusion_matrix(y_test, y_pred) \n",
    "sns.heatmap(cm,annot=True,cmap=\"YlGnBu\")\n",
    "print(classification_report(y_pred, y_test))"
   ]
  },
  {
   "cell_type": "code",
   "execution_count": 9,
   "metadata": {},
   "outputs": [
    {
     "name": "stdout",
     "output_type": "stream",
     "text": [
      "Accuracy: 75.00595632031767\n",
      "              precision    recall  f1-score   support\n",
      "\n",
      "           0       0.05      0.49      0.10      2061\n",
      "           1       0.98      0.76      0.85     73489\n",
      "\n",
      "    accuracy                           0.75     75550\n",
      "   macro avg       0.52      0.63      0.48     75550\n",
      "weighted avg       0.96      0.75      0.83     75550\n",
      "\n"
     ]
    },
    {
     "data": {
      "image/png": "[encoded data removed]",
      "text/plain": [
       "<Figure size 432x288 with 2 Axes>"
      ]
     },
     "metadata": {
      "needs_background": "light"
     },
     "output_type": "display_data"
    }
   ],
   "source": [
    "#training Naive Bayes model\n",
    "\n",
    "model = GaussianNB()\n",
    "model.fit(X_train, y_train)\n",
    "y_pred=model.predict(X_test)\n",
    "\n",
    "# Model Accuracy, how often is the classifier correct?\n",
    "print(\"Accuracy:\",metrics.accuracy_score(y_test, y_pred)*100)\n",
    "cm = confusion_matrix(y_test, y_pred) \n",
    "sns.heatmap(cm,annot=True,cmap=\"YlGnBu\")\n",
    "print(classification_report(y_pred, y_test))"
   ]
  }
 ],
 "metadata": {
  "kernelspec": {
   "display_name": "Python 3",
   "language": "python",
   "name": "python3"
  },
  "language_info": {
   "codemirror_mode": {
    "name": "ipython",
    "version": 3
   },
   "file_extension": ".py",
   "mimetype": "text/x-python",
   "name": "python",
   "nbconvert_exporter": "python",
   "pygments_lexer": "ipython3",
   "version": "3.7.4"
  }
 },
 "nbformat": 4,
 "nbformat_minor": 1
}
