{
 "cells": [
  {
   "cell_type": "code",
   "execution_count": 3,
   "metadata": {},
   "outputs": [],
   "source": [
    "import pandas as pd\n",
    "from sklearn.tree import DecisionTreeClassifier # Import Decision Tree Classifier\n",
    "from sklearn.model_selection import train_test_split # Import train_test_split function\n",
    "from sklearn import metrics #Import scikit-learn metrics module for accuracy calculation\n",
    "\n",
    "\n",
    "data = pd.read_csv(\"C:/Users/Lenovo/Desktop/sem5/da/project/Accidents_categorical.csv\")\n"
   ]
  },
  {
   "cell_type": "code",
   "execution_count": 15,
   "metadata": {},
   "outputs": [],
   "source": [
    "def preprop(data, to_drop=[], na_thresh = 0.25):\n",
    "    log = []\n",
    "    for i in to_drop:                           # Explicitly drop specified columns (intuition and logical reasoning) \n",
    "        data = data.drop(i, axis=1)\n",
    "        log.append(\"Dropped column \" + i + \" as requested\")\n",
    "\n",
    "    report = getStats(data)\n",
    "    # print(report)\n",
    "    replace_index = {}\n",
    "    for i in report:\n",
    "        # print(i)\n",
    "        if i == \"uncertain\":            # report has a class of uncertain columns; Do nothing to them\n",
    "            continue\n",
    "        \n",
    "        # If numerical column and less than threshold percentage is empty, fill it with mean of column\n",
    "        if report[i][\"type\"] == 'num' and report[i][\"na\"] > 0 and report[i][\"na\"] < na_thresh :\n",
    "            data[i] = data[i].fillna(data[i].mean())\n",
    "            log.append(i + \" : replaced Nan/Na with mean\")\n",
    "            \n",
    "        #If in any column, more than threshold percentage is empty, drop such columns\n",
    "        elif (report[i][\"type\"] == 'num' or report[i][\"type\"] == 'cat') and report[i][\"na\"] >= na_thresh :\n",
    "            # print(data.columns)\n",
    "            data = data.drop(i, axis=1)\n",
    "            log.append(\"Dropped column \" + i + \" as Nan/Na ratio (\" + str(report[i][\"na\"]) + \") > \" + str(na_thresh))\n",
    "            \n",
    "            \n",
    "        # If column is categorical, encode them with numerical classes    \n",
    "        if report[i][\"type\"] == 'cat' and i in data.columns:\n",
    "            replace_index[i] = getEncodings(data[i])\n",
    "            log.append(\"Encoded column \" + i)\n",
    "\n",
    "    data = data.replace(replace_index)\n",
    "\n",
    "\n",
    "    return data, log, replace_index # Returning cleaned data, log of changes made and categorical encodings dict (if any)\n",
    "\n",
    "\n",
    "\n",
    "def getEncodings(o):\n",
    "    o = list(set(o))\n",
    "    o = sorted(o)\n",
    "    enc = {cls: ind for ind, cls in enumerate(o)}\n",
    "    return enc\n",
    "\n",
    "\n",
    "def getStats(data):\n",
    "    cols = data.columns\n",
    "    report = {}\n",
    "    report['uncertain'] = []\n",
    "    for i in cols:\n",
    "        report[i] = {}\n",
    "        report[i][\"na\"] = data[i].isna().sum() / len(data)\n",
    "        if \"unique\" in str(data[i].describe()):\n",
    "            if len(data[i].unique()) <  0.25 * len(data):\n",
    "                report[i][\"type\"] = \"cat\"\n",
    "                report[i][\"uniq\"] = data[i].unique()\n",
    "                report[i][\"uniq_no\"] = len(data[i].unique())\n",
    "            else:\n",
    "                report[\"uncertain\"].append(i)\n",
    "        else:\n",
    "            report[i][\"type\"] = \"num\"\n",
    "    return report\n",
    "\n",
    "\n",
    "# Accident_Index and Datetime provide no useful information\n",
    "prepro_data, logs, encs = preprop(data, to_drop=[\"Accident_Index\", \"Datetime\"])  \n",
    "#print(\"\\n\".join(logs))"
   ]
  },
  {
   "cell_type": "code",
   "execution_count": 10,
   "metadata": {},
   "outputs": [
    {
     "name": "stdout",
     "output_type": "stream",
     "text": [
      "Accuracy: 0.6694506949040371\n"
     ]
    }
   ],
   "source": [
    "cols = list(prepro_data.columns)\n",
    "feature_cols=[]\n",
    "for i in range(0,len(cols)-1):\n",
    "    feature_cols.append(cols[i])\n",
    "#print(feature_cols)\n",
    "X = prepro_data[feature_cols] # Features\n",
    "y = prepro_data.Accident_Severity # Target variable\n",
    "X_train, X_test, y_train, y_test = train_test_split(X, y, test_size=0.3, random_state=1) # 70% training and 30% test\n",
    "# Create Decision Tree classifer object\n",
    "clf = DecisionTreeClassifier()\n",
    "\n",
    "# Train Decision Tree Classifer\n",
    "clf = clf.fit(X_train,y_train)\n",
    "\n",
    "#Predict the response for test dataset\n",
    "y_pred = clf.predict(X_test)\n",
    "# Model Accuracy, how often is the classifier correct?\n",
    "print(\"Accuracy:\",metrics.accuracy_score(y_test, y_pred))"
   ]
  },
  {
   "cell_type": "code",
   "execution_count": null,
   "metadata": {},
   "outputs": [],
   "source": []
  }
 ],
 "metadata": {
  "kernelspec": {
   "display_name": "Python 3",
   "language": "python",
   "name": "python3"
  },
  "language_info": {
   "codemirror_mode": {
    "name": "ipython",
    "version": 3
   },
   "file_extension": ".py",
   "mimetype": "text/x-python",
   "name": "python",
   "nbconvert_exporter": "python",
   "pygments_lexer": "ipython3",
   "version": "3.7.0"
  }
 },
 "nbformat": 4,
 "nbformat_minor": 1
}
