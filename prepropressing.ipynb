{
 "cells": [
  {
   "cell_type": "code",
   "execution_count": 4,
   "metadata": {},
   "outputs": [],
   "source": [
    "import pandas as pd\n",
    "\n",
    "data = pd.read_csv(\"D:\\Sem 5\\Data Analytics\\Assignments\\Project\\Accidents_categorical.csv\")\n",
    "\n"
   ]
  },
  {
   "cell_type": "code",
   "execution_count": 5,
   "metadata": {},
   "outputs": [
    {
     "name": "stdout",
     "output_type": "stream",
     "text": [
      "Dropped column Accident_Index as requested\n",
      "Dropped column Datetime as requested\n",
      "Encoded column Region\n",
      "Encoded column Urban_or_Rural_Area\n",
      "Encoded column X1st_Road_Class\n",
      "Encoded column Road_Type\n",
      "Encoded column Road_Surface_Conditions\n",
      "Encoded column Weather\n",
      "Encoded column High_Wind\n",
      "Encoded column Lights\n",
      "Encoded column Junction_Detail\n",
      "Encoded column Junction_Location\n",
      "Encoded column X1st_Point_of_Impact\n",
      "Encoded column Driver_Journey_Purpose\n",
      "Encoded column Propulsion_Code\n",
      "Encoded column Vehicle_Make\n",
      "Encoded column Vehicle_Category\n",
      "Encoded column Vehicle_Manoeuvre\n",
      "Encoded column Accident_Severity\n"
     ]
    }
   ],
   "source": [
    "def preprop(data, to_drop=[], na_thresh = 0.25):\n",
    "    log = []\n",
    "    for i in to_drop:                           # Explicitly drop specified columns (intuition and logical reasoning) \n",
    "        data = data.drop(i, axis=1)\n",
    "        log.append(\"Dropped column \" + i + \" as requested\")\n",
    "\n",
    "    report = getStats(data)\n",
    "    # print(report)\n",
    "    replace_index = {}\n",
    "    for i in report:\n",
    "        # print(i)\n",
    "        if i == \"uncertain\":            # report has a class of uncertain columns; Do nothing to them\n",
    "            continue\n",
    "        \n",
    "        # If numerical column and less than threshold percentage is empty, fill it with mean of column\n",
    "        if report[i][\"type\"] == 'num' and report[i][\"na\"] > 0 and report[i][\"na\"] < na_thresh :\n",
    "            data[i] = data[i].fillna(data[i].mean())\n",
    "            log.append(i + \" : replaced Nan/Na with mean\")\n",
    "            \n",
    "        #If in any column, more than threshold percentage is empty, drop such columns\n",
    "        elif (report[i][\"type\"] == 'num' or report[i][\"type\"] == 'cat') and report[i][\"na\"] >= na_thresh :\n",
    "            # print(data.columns)\n",
    "            data = data.drop(i, axis=1)\n",
    "            log.append(\"Dropped column \" + i + \" as Nan/Na ratio (\" + str(report[i][\"na\"]) + \") > \" + str(na_thresh))\n",
    "            \n",
    "            \n",
    "        # If column is categorical, encode them with numerical classes    \n",
    "        if report[i][\"type\"] == 'cat' and i in data.columns:\n",
    "            replace_index[i] = getEncodings(data[i])\n",
    "            log.append(\"Encoded column \" + i)\n",
    "\n",
    "    data = data.replace(replace_index)\n",
    "\n",
    "\n",
    "    return data, log, replace_index # Returning cleaned data, log of changes made and categorical encodings dict (if any)\n",
    "\n",
    "\n",
    "\n",
    "def getEncodings(o):\n",
    "    o = list(set(o))\n",
    "    o = sorted(o)\n",
    "    enc = {cls: ind for ind, cls in enumerate(o)}\n",
    "    return enc\n",
    "\n",
    "\n",
    "def getStats(data):\n",
    "    cols = data.columns\n",
    "    report = {}\n",
    "    report['uncertain'] = []\n",
    "    for i in cols:\n",
    "        report[i] = {}\n",
    "        report[i][\"na\"] = data[i].isna().sum() / len(data)\n",
    "        if \"unique\" in str(data[i].describe()):\n",
    "            if len(data[i].unique()) <  0.25 * len(data):\n",
    "                report[i][\"type\"] = \"cat\"\n",
    "                report[i][\"uniq\"] = data[i].unique()\n",
    "                report[i][\"uniq_no\"] = len(data[i].unique())\n",
    "            else:\n",
    "                report[\"uncertain\"].append(i)\n",
    "        else:\n",
    "            report[i][\"type\"] = \"num\"\n",
    "    return report\n",
    "\n",
    "\n",
    "# Accident_Index and Datetime provide no useful information\n",
    "prepro_data, logs, encs = preprop(data, to_drop=[\"Accident_Index\", \"Datetime\"])  \n",
    "print(\"\\n\".join(logs))\n"
   ]
  },
  {
   "cell_type": "code",
   "execution_count": 9,
   "metadata": {},
   "outputs": [
    {
     "ename": "ModuleNotFoundError",
     "evalue": "No module named 'plotly'",
     "output_type": "error",
     "traceback": [
      "\u001b[1;31m---------------------------------------------------------------------------\u001b[0m",
      "\u001b[1;31mModuleNotFoundError\u001b[0m                       Traceback (most recent call last)",
      "\u001b[1;32m<ipython-input-9-1701c0c3ea8e>\u001b[0m in \u001b[0;36m<module>\u001b[1;34m\u001b[0m\n\u001b[1;32m----> 1\u001b[1;33m \u001b[1;32mimport\u001b[0m \u001b[0mplotly\u001b[0m \u001b[1;32mas\u001b[0m \u001b[0mplt\u001b[0m\u001b[1;33m\u001b[0m\u001b[0m\n\u001b[0m\u001b[0;32m      2\u001b[0m \u001b[0mplt\u001b[0m\u001b[1;33m.\u001b[0m\u001b[0mhist\u001b[0m\u001b[1;33m(\u001b[0m\u001b[1;33m)\u001b[0m\u001b[1;33m\u001b[0m\u001b[0m\n",
      "\u001b[1;31mModuleNotFoundError\u001b[0m: No module named 'plotly'"
     ]
    }
   ],
   "source": []
  },
  {
   "cell_type": "code",
   "execution_count": null,
   "metadata": {},
   "outputs": [],
   "source": []
  }
 ],
 "metadata": {
  "kernelspec": {
   "display_name": "Python 3",
   "language": "python",
   "name": "python3"
  },
  "language_info": {
   "codemirror_mode": {
    "name": "ipython",
    "version": 3
   },
   "file_extension": ".py",
   "mimetype": "text/x-python",
   "name": "python",
   "nbconvert_exporter": "python",
   "pygments_lexer": "ipython3",
   "version": "3.6.0"
  }
 },
 "nbformat": 4,
 "nbformat_minor": 1
}
